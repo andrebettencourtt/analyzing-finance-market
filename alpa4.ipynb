{
 "cells": [
  {
   "cell_type": "markdown",
   "id": "564e62a3",
   "metadata": {},
   "source": [
    "Passo 1 - Importar as bibliotecas"
   ]
  },
  {
   "cell_type": "code",
   "execution_count": 36,
   "id": "7baaa60e",
   "metadata": {},
   "outputs": [
    {
     "name": "stdout",
     "output_type": "stream",
     "text": [
      "Requirement already satisfied: yfinance==0.2.58 in /home/andre/anaconda3/lib/python3.12/site-packages (0.2.58)\n",
      "Requirement already satisfied: pandas>=1.3.0 in /home/andre/anaconda3/lib/python3.12/site-packages (from yfinance==0.2.58) (2.2.2)\n",
      "Requirement already satisfied: numpy>=1.16.5 in /home/andre/anaconda3/lib/python3.12/site-packages (from yfinance==0.2.58) (1.26.4)\n",
      "Requirement already satisfied: requests>=2.31 in /home/andre/anaconda3/lib/python3.12/site-packages (from yfinance==0.2.58) (2.32.3)\n",
      "Requirement already satisfied: multitasking>=0.0.7 in /home/andre/anaconda3/lib/python3.12/site-packages (from yfinance==0.2.58) (0.0.11)\n",
      "Requirement already satisfied: platformdirs>=2.0.0 in /home/andre/anaconda3/lib/python3.12/site-packages (from yfinance==0.2.58) (3.10.0)\n",
      "Requirement already satisfied: pytz>=2022.5 in /home/andre/anaconda3/lib/python3.12/site-packages (from yfinance==0.2.58) (2024.1)\n",
      "Requirement already satisfied: frozendict>=2.3.4 in /home/andre/anaconda3/lib/python3.12/site-packages (from yfinance==0.2.58) (2.4.2)\n",
      "Requirement already satisfied: peewee>=3.16.2 in /home/andre/anaconda3/lib/python3.12/site-packages (from yfinance==0.2.58) (3.18.1)\n",
      "Requirement already satisfied: beautifulsoup4>=4.11.1 in /home/andre/anaconda3/lib/python3.12/site-packages (from yfinance==0.2.58) (4.12.3)\n",
      "Requirement already satisfied: curl_cffi>=0.7 in /home/andre/anaconda3/lib/python3.12/site-packages (from yfinance==0.2.58) (0.11.4)\n",
      "Requirement already satisfied: soupsieve>1.2 in /home/andre/anaconda3/lib/python3.12/site-packages (from beautifulsoup4>=4.11.1->yfinance==0.2.58) (2.5)\n",
      "Requirement already satisfied: cffi>=1.12.0 in /home/andre/anaconda3/lib/python3.12/site-packages (from curl_cffi>=0.7->yfinance==0.2.58) (1.17.1)\n",
      "Requirement already satisfied: certifi>=2024.2.2 in /home/andre/anaconda3/lib/python3.12/site-packages (from curl_cffi>=0.7->yfinance==0.2.58) (2024.12.14)\n",
      "Requirement already satisfied: python-dateutil>=2.8.2 in /home/andre/anaconda3/lib/python3.12/site-packages (from pandas>=1.3.0->yfinance==0.2.58) (2.9.0.post0)\n",
      "Requirement already satisfied: tzdata>=2022.7 in /home/andre/anaconda3/lib/python3.12/site-packages (from pandas>=1.3.0->yfinance==0.2.58) (2023.3)\n",
      "Requirement already satisfied: charset-normalizer<4,>=2 in /home/andre/anaconda3/lib/python3.12/site-packages (from requests>=2.31->yfinance==0.2.58) (3.3.2)\n",
      "Requirement already satisfied: idna<4,>=2.5 in /home/andre/anaconda3/lib/python3.12/site-packages (from requests>=2.31->yfinance==0.2.58) (3.7)\n",
      "Requirement already satisfied: urllib3<3,>=1.21.1 in /home/andre/anaconda3/lib/python3.12/site-packages (from requests>=2.31->yfinance==0.2.58) (2.2.3)\n",
      "Requirement already satisfied: pycparser in /home/andre/anaconda3/lib/python3.12/site-packages (from cffi>=1.12.0->curl_cffi>=0.7->yfinance==0.2.58) (2.21)\n",
      "Requirement already satisfied: six>=1.5 in /home/andre/anaconda3/lib/python3.12/site-packages (from python-dateutil>=2.8.2->pandas>=1.3.0->yfinance==0.2.58) (1.16.0)\n",
      "Note: you may need to restart the kernel to use updated packages.\n",
      "Requirement already satisfied: mplcyberpunk in /home/andre/anaconda3/lib/python3.12/site-packages (0.7.6)\n",
      "Requirement already satisfied: matplotlib in /home/andre/anaconda3/lib/python3.12/site-packages (from mplcyberpunk) (3.9.2)\n",
      "Requirement already satisfied: numpy>1.24.4 in /home/andre/anaconda3/lib/python3.12/site-packages (from mplcyberpunk) (1.26.4)\n",
      "Requirement already satisfied: contourpy>=1.0.1 in /home/andre/anaconda3/lib/python3.12/site-packages (from matplotlib->mplcyberpunk) (1.2.0)\n",
      "Requirement already satisfied: cycler>=0.10 in /home/andre/anaconda3/lib/python3.12/site-packages (from matplotlib->mplcyberpunk) (0.11.0)\n",
      "Requirement already satisfied: fonttools>=4.22.0 in /home/andre/anaconda3/lib/python3.12/site-packages (from matplotlib->mplcyberpunk) (4.51.0)\n",
      "Requirement already satisfied: kiwisolver>=1.3.1 in /home/andre/anaconda3/lib/python3.12/site-packages (from matplotlib->mplcyberpunk) (1.4.4)\n",
      "Requirement already satisfied: packaging>=20.0 in /home/andre/anaconda3/lib/python3.12/site-packages (from matplotlib->mplcyberpunk) (24.1)\n",
      "Requirement already satisfied: pillow>=8 in /home/andre/anaconda3/lib/python3.12/site-packages (from matplotlib->mplcyberpunk) (10.4.0)\n",
      "Requirement already satisfied: pyparsing>=2.3.1 in /home/andre/anaconda3/lib/python3.12/site-packages (from matplotlib->mplcyberpunk) (3.1.2)\n",
      "Requirement already satisfied: python-dateutil>=2.7 in /home/andre/anaconda3/lib/python3.12/site-packages (from matplotlib->mplcyberpunk) (2.9.0.post0)\n",
      "Requirement already satisfied: six>=1.5 in /home/andre/anaconda3/lib/python3.12/site-packages (from python-dateutil>=2.7->matplotlib->mplcyberpunk) (1.16.0)\n",
      "Note: you may need to restart the kernel to use updated packages.\n"
     ]
    }
   ],
   "source": [
    "%pip install yfinance==0.2.58\n",
    "%pip install mplcyberpunk"
   ]
  },
  {
   "cell_type": "code",
   "execution_count": 37,
   "id": "5326f1ba",
   "metadata": {},
   "outputs": [],
   "source": [
    "import yfinance as yf\n",
    "import pandas as pd\n",
    "import matplotlib.pyplot as plt\n",
    "import numpy as np\n",
    "import mplcyberpunk\n",
    "\n",
    "plt.style.use(\"cyberpunk\")"
   ]
  },
  {
   "cell_type": "markdown",
   "id": "218d2b63",
   "metadata": {},
   "source": [
    "Passo 2 - pegar os dados do Yahoo Finance"
   ]
  },
  {
   "cell_type": "code",
   "execution_count": 38,
   "id": "2c7abaae",
   "metadata": {},
   "outputs": [
    {
     "name": "stderr",
     "output_type": "stream",
     "text": [
      "[*********************100%***********************]  1 of 1 completed\n"
     ]
    }
   ],
   "source": [
    "ticker = \"ALPA4.SA\"\n",
    "tabela_de_dados = yf.download(ticker, start= \"2021-05-27\", end= \"2025-04-30\", auto_adjust= False)\n",
    "\n"
   ]
  },
  {
   "cell_type": "markdown",
   "id": "308988bd",
   "metadata": {},
   "source": [
    "Passo 3 - Definir as janelas das médias móveis "
   ]
  },
  {
   "cell_type": "code",
   "execution_count": 39,
   "id": "cbec307c",
   "metadata": {},
   "outputs": [],
   "source": [
    "janela_rapida = 7\n",
    "janela_lenta = 40"
   ]
  },
  {
   "cell_type": "markdown",
   "id": "a7de2d63",
   "metadata": {},
   "source": [
    "Passo 4 - Calcular as médias móveis"
   ]
  },
  {
   "cell_type": "code",
   "execution_count": 40,
   "id": "9155b283",
   "metadata": {},
   "outputs": [],
   "source": [
    "tabela_de_dados[\"Média Rápida\"] = tabela_de_dados[\"Adj Close\"].rolling(window=janela_rapida).mean()\n",
    "tabela_de_dados[\"Média Lenta\"] = tabela_de_dados[\"Adj Close\"].rolling(window=janela_lenta).mean()\n",
    "\n"
   ]
  },
  {
   "cell_type": "markdown",
   "id": "dd124569",
   "metadata": {},
   "source": [
    "Passo 5 - Calcular o retorno diário da ação"
   ]
  },
  {
   "cell_type": "code",
   "execution_count": 41,
   "id": "62b45fa5",
   "metadata": {},
   "outputs": [],
   "source": [
    "tabela_de_dados[\"retorno_diario\"] = tabela_de_dados[\"Adj Close\"].pct_change()\n",
    "tabela_de_dados = tabela_de_dados.dropna()\n",
    "\n"
   ]
  },
  {
   "cell_type": "markdown",
   "id": "ce0b7929",
   "metadata": {},
   "source": [
    "Passo 6 - Criar os sinais de compra ou venda"
   ]
  },
  {
   "cell_type": "code",
   "execution_count": 42,
   "id": "b88f9440",
   "metadata": {},
   "outputs": [],
   "source": [
    "# se eu tiver comprado é 1\n",
    "# se eu tiver neutro é 0\n",
    "# se eu tiver vendido é -1\n",
    "\n",
    "tabela_de_dados[\"comprado_ou_vendido\"] = 0\n",
    "tabela_de_dados[\"comprado_ou_vendido\"] = np.where(tabela_de_dados[\"Média Rápida\"] > tabela_de_dados[\"Média Lenta\"], 1, -1)\n",
    "\n",
    "\n",
    "tabela_de_dados[\"comprado_ou_vendido\"] = tabela_de_dados[\"comprado_ou_vendido\"].shift(1)\n",
    "\n"
   ]
  },
  {
   "cell_type": "markdown",
   "id": "208ad727",
   "metadata": {},
   "source": [
    "Passo 7 - Calcular o retorno do modelo"
   ]
  },
  {
   "cell_type": "code",
   "execution_count": 43,
   "id": "630dff5f",
   "metadata": {},
   "outputs": [],
   "source": [
    "tabela_de_dados[\"retorno_modelo\"] = tabela_de_dados[\"retorno_diario\"] * tabela_de_dados[\"comprado_ou_vendido\"]\n",
    "tabela_de_dados[\"retorno_acumulado_modelo\"] = (1 + tabela_de_dados[\"retorno_modelo\"]).cumprod() - 1\n",
    "\n"
   ]
  },
  {
   "cell_type": "markdown",
   "id": "c7904293",
   "metadata": {},
   "source": [
    "Passo 8 - Calcular o retorno da ação e do ibovespa no mesmo período"
   ]
  },
  {
   "cell_type": "code",
   "execution_count": 44,
   "id": "1f96d4dd",
   "metadata": {},
   "outputs": [
    {
     "name": "stderr",
     "output_type": "stream",
     "text": [
      "[*********************100%***********************]  1 of 1 completed\n"
     ]
    }
   ],
   "source": [
    "tabela_de_dados[\"retorno_acum_acao\"] = (1 + tabela_de_dados[\"retorno_diario\"]).cumprod() - 1\n",
    "\n",
    "ibov = yf.download(\"^BVSP\", start=tabela_de_dados.index[0], end=\"2025-04-30\", auto_adjust=False)[\"Adj Close\"]\n",
    "\n",
    "tabela_de_dados[\"retorno_ibov\"] = ibov.pct_change().values"
   ]
  },
  {
   "cell_type": "code",
   "execution_count": 45,
   "id": "392f7b73",
   "metadata": {},
   "outputs": [
    {
     "data": {
      "text/html": [
       "<div>\n",
       "<style scoped>\n",
       "    .dataframe tbody tr th:only-of-type {\n",
       "        vertical-align: middle;\n",
       "    }\n",
       "\n",
       "    .dataframe tbody tr th {\n",
       "        vertical-align: top;\n",
       "    }\n",
       "\n",
       "    .dataframe thead tr th {\n",
       "        text-align: left;\n",
       "    }\n",
       "\n",
       "    .dataframe thead tr:last-of-type th {\n",
       "        text-align: right;\n",
       "    }\n",
       "</style>\n",
       "<table border=\"1\" class=\"dataframe\">\n",
       "  <thead>\n",
       "    <tr>\n",
       "      <th>Price</th>\n",
       "      <th>Adj Close</th>\n",
       "      <th>Close</th>\n",
       "      <th>High</th>\n",
       "      <th>Low</th>\n",
       "      <th>Open</th>\n",
       "      <th>Volume</th>\n",
       "      <th>Média Rápida</th>\n",
       "      <th>Média Lenta</th>\n",
       "      <th>retorno_diario</th>\n",
       "      <th>comprado_ou_vendido</th>\n",
       "      <th>retorno_modelo</th>\n",
       "      <th>retorno_acumulado_modelo</th>\n",
       "      <th>retorno_acum_acao</th>\n",
       "      <th>retorno_ibov</th>\n",
       "    </tr>\n",
       "    <tr>\n",
       "      <th>Ticker</th>\n",
       "      <th>ALPA4.SA</th>\n",
       "      <th>ALPA4.SA</th>\n",
       "      <th>ALPA4.SA</th>\n",
       "      <th>ALPA4.SA</th>\n",
       "      <th>ALPA4.SA</th>\n",
       "      <th>ALPA4.SA</th>\n",
       "      <th></th>\n",
       "      <th></th>\n",
       "      <th></th>\n",
       "      <th></th>\n",
       "      <th></th>\n",
       "      <th></th>\n",
       "      <th></th>\n",
       "      <th></th>\n",
       "    </tr>\n",
       "    <tr>\n",
       "      <th>Date</th>\n",
       "      <th></th>\n",
       "      <th></th>\n",
       "      <th></th>\n",
       "      <th></th>\n",
       "      <th></th>\n",
       "      <th></th>\n",
       "      <th></th>\n",
       "      <th></th>\n",
       "      <th></th>\n",
       "      <th></th>\n",
       "      <th></th>\n",
       "      <th></th>\n",
       "      <th></th>\n",
       "      <th></th>\n",
       "    </tr>\n",
       "  </thead>\n",
       "  <tbody>\n",
       "    <tr>\n",
       "      <th>2021-07-23</th>\n",
       "      <td>52.449509</td>\n",
       "      <td>52.449509</td>\n",
       "      <td>53.009075</td>\n",
       "      <td>52.039825</td>\n",
       "      <td>52.749275</td>\n",
       "      <td>1268778</td>\n",
       "      <td>52.316754</td>\n",
       "      <td>50.068347</td>\n",
       "      <td>-0.003607</td>\n",
       "      <td>NaN</td>\n",
       "      <td>NaN</td>\n",
       "      <td>NaN</td>\n",
       "      <td>-0.003607</td>\n",
       "      <td>NaN</td>\n",
       "    </tr>\n",
       "    <tr>\n",
       "      <th>2021-07-26</th>\n",
       "      <td>51.859962</td>\n",
       "      <td>51.859962</td>\n",
       "      <td>52.969109</td>\n",
       "      <td>51.670109</td>\n",
       "      <td>52.969109</td>\n",
       "      <td>1088239</td>\n",
       "      <td>52.271075</td>\n",
       "      <td>50.216233</td>\n",
       "      <td>-0.011240</td>\n",
       "      <td>1.0</td>\n",
       "      <td>-0.011240</td>\n",
       "      <td>-0.011240</td>\n",
       "      <td>-0.014806</td>\n",
       "      <td>0.007605</td>\n",
       "    </tr>\n",
       "    <tr>\n",
       "      <th>2021-07-27</th>\n",
       "      <td>51.680103</td>\n",
       "      <td>51.680103</td>\n",
       "      <td>51.829987</td>\n",
       "      <td>50.590942</td>\n",
       "      <td>51.700089</td>\n",
       "      <td>2018557</td>\n",
       "      <td>52.205411</td>\n",
       "      <td>50.333392</td>\n",
       "      <td>-0.003468</td>\n",
       "      <td>1.0</td>\n",
       "      <td>-0.003468</td>\n",
       "      <td>-0.014669</td>\n",
       "      <td>-0.018223</td>\n",
       "      <td>-0.011047</td>\n",
       "    </tr>\n",
       "    <tr>\n",
       "      <th>2021-07-28</th>\n",
       "      <td>51.530216</td>\n",
       "      <td>51.530216</td>\n",
       "      <td>52.149738</td>\n",
       "      <td>50.980640</td>\n",
       "      <td>51.620148</td>\n",
       "      <td>2620821</td>\n",
       "      <td>52.079794</td>\n",
       "      <td>50.440310</td>\n",
       "      <td>-0.002900</td>\n",
       "      <td>1.0</td>\n",
       "      <td>-0.002900</td>\n",
       "      <td>-0.017527</td>\n",
       "      <td>-0.021071</td>\n",
       "      <td>0.013434</td>\n",
       "    </tr>\n",
       "    <tr>\n",
       "      <th>2021-07-29</th>\n",
       "      <td>51.200474</td>\n",
       "      <td>51.200474</td>\n",
       "      <td>51.959885</td>\n",
       "      <td>50.880718</td>\n",
       "      <td>51.410313</td>\n",
       "      <td>1792482</td>\n",
       "      <td>51.877093</td>\n",
       "      <td>50.518499</td>\n",
       "      <td>-0.006399</td>\n",
       "      <td>1.0</td>\n",
       "      <td>-0.006399</td>\n",
       "      <td>-0.023814</td>\n",
       "      <td>-0.027335</td>\n",
       "      <td>-0.004838</td>\n",
       "    </tr>\n",
       "    <tr>\n",
       "      <th>...</th>\n",
       "      <td>...</td>\n",
       "      <td>...</td>\n",
       "      <td>...</td>\n",
       "      <td>...</td>\n",
       "      <td>...</td>\n",
       "      <td>...</td>\n",
       "      <td>...</td>\n",
       "      <td>...</td>\n",
       "      <td>...</td>\n",
       "      <td>...</td>\n",
       "      <td>...</td>\n",
       "      <td>...</td>\n",
       "      <td>...</td>\n",
       "      <td>...</td>\n",
       "    </tr>\n",
       "    <tr>\n",
       "      <th>2025-04-23</th>\n",
       "      <td>7.140000</td>\n",
       "      <td>7.140000</td>\n",
       "      <td>7.330000</td>\n",
       "      <td>7.120000</td>\n",
       "      <td>7.210000</td>\n",
       "      <td>3467800</td>\n",
       "      <td>7.242857</td>\n",
       "      <td>6.946000</td>\n",
       "      <td>-0.002793</td>\n",
       "      <td>1.0</td>\n",
       "      <td>-0.002793</td>\n",
       "      <td>1.422484</td>\n",
       "      <td>-0.864360</td>\n",
       "      <td>0.013429</td>\n",
       "    </tr>\n",
       "    <tr>\n",
       "      <th>2025-04-24</th>\n",
       "      <td>7.340000</td>\n",
       "      <td>7.340000</td>\n",
       "      <td>7.400000</td>\n",
       "      <td>7.190000</td>\n",
       "      <td>7.220000</td>\n",
       "      <td>1789900</td>\n",
       "      <td>7.251429</td>\n",
       "      <td>6.960750</td>\n",
       "      <td>0.028011</td>\n",
       "      <td>1.0</td>\n",
       "      <td>0.028011</td>\n",
       "      <td>1.490341</td>\n",
       "      <td>-0.860561</td>\n",
       "      <td>0.017880</td>\n",
       "    </tr>\n",
       "    <tr>\n",
       "      <th>2025-04-25</th>\n",
       "      <td>7.390000</td>\n",
       "      <td>7.390000</td>\n",
       "      <td>7.470000</td>\n",
       "      <td>7.250000</td>\n",
       "      <td>7.350000</td>\n",
       "      <td>1243000</td>\n",
       "      <td>7.252857</td>\n",
       "      <td>6.980500</td>\n",
       "      <td>0.006812</td>\n",
       "      <td>1.0</td>\n",
       "      <td>0.006812</td>\n",
       "      <td>1.507305</td>\n",
       "      <td>-0.859611</td>\n",
       "      <td>0.001181</td>\n",
       "    </tr>\n",
       "    <tr>\n",
       "      <th>2025-04-28</th>\n",
       "      <td>7.350000</td>\n",
       "      <td>7.350000</td>\n",
       "      <td>7.470000</td>\n",
       "      <td>7.200000</td>\n",
       "      <td>7.350000</td>\n",
       "      <td>1558200</td>\n",
       "      <td>7.251429</td>\n",
       "      <td>6.994000</td>\n",
       "      <td>-0.005413</td>\n",
       "      <td>1.0</td>\n",
       "      <td>-0.005413</td>\n",
       "      <td>1.493733</td>\n",
       "      <td>-0.860371</td>\n",
       "      <td>0.002056</td>\n",
       "    </tr>\n",
       "    <tr>\n",
       "      <th>2025-04-29</th>\n",
       "      <td>7.380000</td>\n",
       "      <td>7.380000</td>\n",
       "      <td>7.540000</td>\n",
       "      <td>7.280000</td>\n",
       "      <td>7.310000</td>\n",
       "      <td>1554600</td>\n",
       "      <td>7.284286</td>\n",
       "      <td>7.016750</td>\n",
       "      <td>0.004082</td>\n",
       "      <td>1.0</td>\n",
       "      <td>0.004082</td>\n",
       "      <td>1.503912</td>\n",
       "      <td>-0.859801</td>\n",
       "      <td>0.000570</td>\n",
       "    </tr>\n",
       "  </tbody>\n",
       "</table>\n",
       "<p>939 rows × 14 columns</p>\n",
       "</div>"
      ],
      "text/plain": [
       "Price       Adj Close      Close       High        Low       Open   Volume  \\\n",
       "Ticker       ALPA4.SA   ALPA4.SA   ALPA4.SA   ALPA4.SA   ALPA4.SA ALPA4.SA   \n",
       "Date                                                                         \n",
       "2021-07-23  52.449509  52.449509  53.009075  52.039825  52.749275  1268778   \n",
       "2021-07-26  51.859962  51.859962  52.969109  51.670109  52.969109  1088239   \n",
       "2021-07-27  51.680103  51.680103  51.829987  50.590942  51.700089  2018557   \n",
       "2021-07-28  51.530216  51.530216  52.149738  50.980640  51.620148  2620821   \n",
       "2021-07-29  51.200474  51.200474  51.959885  50.880718  51.410313  1792482   \n",
       "...               ...        ...        ...        ...        ...      ...   \n",
       "2025-04-23   7.140000   7.140000   7.330000   7.120000   7.210000  3467800   \n",
       "2025-04-24   7.340000   7.340000   7.400000   7.190000   7.220000  1789900   \n",
       "2025-04-25   7.390000   7.390000   7.470000   7.250000   7.350000  1243000   \n",
       "2025-04-28   7.350000   7.350000   7.470000   7.200000   7.350000  1558200   \n",
       "2025-04-29   7.380000   7.380000   7.540000   7.280000   7.310000  1554600   \n",
       "\n",
       "Price      Média Rápida Média Lenta retorno_diario comprado_ou_vendido  \\\n",
       "Ticker                                                                   \n",
       "Date                                                                     \n",
       "2021-07-23    52.316754   50.068347      -0.003607                 NaN   \n",
       "2021-07-26    52.271075   50.216233      -0.011240                 1.0   \n",
       "2021-07-27    52.205411   50.333392      -0.003468                 1.0   \n",
       "2021-07-28    52.079794   50.440310      -0.002900                 1.0   \n",
       "2021-07-29    51.877093   50.518499      -0.006399                 1.0   \n",
       "...                 ...         ...            ...                 ...   \n",
       "2025-04-23     7.242857    6.946000      -0.002793                 1.0   \n",
       "2025-04-24     7.251429    6.960750       0.028011                 1.0   \n",
       "2025-04-25     7.252857    6.980500       0.006812                 1.0   \n",
       "2025-04-28     7.251429    6.994000      -0.005413                 1.0   \n",
       "2025-04-29     7.284286    7.016750       0.004082                 1.0   \n",
       "\n",
       "Price      retorno_modelo retorno_acumulado_modelo retorno_acum_acao  \\\n",
       "Ticker                                                                 \n",
       "Date                                                                   \n",
       "2021-07-23            NaN                      NaN         -0.003607   \n",
       "2021-07-26      -0.011240                -0.011240         -0.014806   \n",
       "2021-07-27      -0.003468                -0.014669         -0.018223   \n",
       "2021-07-28      -0.002900                -0.017527         -0.021071   \n",
       "2021-07-29      -0.006399                -0.023814         -0.027335   \n",
       "...                   ...                      ...               ...   \n",
       "2025-04-23      -0.002793                 1.422484         -0.864360   \n",
       "2025-04-24       0.028011                 1.490341         -0.860561   \n",
       "2025-04-25       0.006812                 1.507305         -0.859611   \n",
       "2025-04-28      -0.005413                 1.493733         -0.860371   \n",
       "2025-04-29       0.004082                 1.503912         -0.859801   \n",
       "\n",
       "Price      retorno_ibov  \n",
       "Ticker                   \n",
       "Date                     \n",
       "2021-07-23          NaN  \n",
       "2021-07-26     0.007605  \n",
       "2021-07-27    -0.011047  \n",
       "2021-07-28     0.013434  \n",
       "2021-07-29    -0.004838  \n",
       "...                 ...  \n",
       "2025-04-23     0.013429  \n",
       "2025-04-24     0.017880  \n",
       "2025-04-25     0.001181  \n",
       "2025-04-28     0.002056  \n",
       "2025-04-29     0.000570  \n",
       "\n",
       "[939 rows x 14 columns]"
      ]
     },
     "execution_count": 45,
     "metadata": {},
     "output_type": "execute_result"
    }
   ],
   "source": [
    "tabela_de_dados"
   ]
  },
  {
   "cell_type": "code",
   "execution_count": 46,
   "id": "7c2e11fe",
   "metadata": {},
   "outputs": [],
   "source": [
    "tabela_de_dados[\"retorno_acum_ibov\"] = (1 + tabela_de_dados[\"retorno_ibov\"]).cumprod() - 1\n"
   ]
  },
  {
   "cell_type": "markdown",
   "id": "f47d230d",
   "metadata": {},
   "source": [
    "Passo 9 - Criar o gráfico de retornos para observar o resultado da estratégia"
   ]
  },
  {
   "cell_type": "code",
   "execution_count": 47,
   "id": "a9284191",
   "metadata": {},
   "outputs": [
    {
     "data": {
      "image/png": "[encoded data removed]",
      "text/plain": [
       "<Figure size 640x480 with 1 Axes>"
      ]
     },
     "metadata": {},
     "output_type": "display_data"
    }
   ],
   "source": [
    "plt.plot(tabela_de_dados[\"retorno_acumulado_modelo\"], label = \"Estratégia\")\n",
    "plt.plot(tabela_de_dados[\"retorno_acum_acao\"], label = \"Ação\")\n",
    "plt.plot(tabela_de_dados[\"retorno_acum_ibov\"], label = \"ibovespa\")\n",
    "plt.legend()\n",
    "plt.show()"
   ]
  }
 ],
 "metadata": {
  "kernelspec": {
   "display_name": "base",
   "language": "python",
   "name": "python3"
  },
  "language_info": {
   "codemirror_mode": {
    "name": "ipython",
    "version": 3
   },
   "file_extension": ".py",
   "mimetype": "text/x-python",
   "name": "python",
   "nbconvert_exporter": "python",
   "pygments_lexer": "ipython3",
   "version": "3.12.7"
  }
 },
 "nbformat": 4,
 "nbformat_minor": 5
}
