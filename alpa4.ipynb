{
 "cells": [
  {
   "cell_type": "markdown",
   "id": "564e62a3",
   "metadata": {},
   "source": [
    "Passo 1 - Importar as bibliotecas"
   ]
  },
  {
   "cell_type": "code",
   "execution_count": null,
   "id": "7baaa60e",
   "metadata": {},
   "outputs": [],
   "source": [
    "%pip install yfinance==0.2.58\n",
    "%pip install mplcyberpunk"
   ]
  },
  {
   "cell_type": "code",
   "execution_count": null,
   "id": "5326f1ba",
   "metadata": {},
   "outputs": [],
   "source": [
    "import yfinance as yf\n",
    "import pandas as pd\n",
    "import matplotlib.pyplot as plt\n",
    "import numpy as np\n",
    "import mplcyberpunk\n",
    "\n",
    "plt.style.use(\"cyberpunk\")"
   ]
  },
  {
   "cell_type": "markdown",
   "id": "218d2b63",
   "metadata": {},
   "source": [
    "Passo 2 - pegar os dados do Yahoo Finance"
   ]
  },
  {
   "cell_type": "code",
   "execution_count": null,
   "id": "2c7abaae",
   "metadata": {},
   "outputs": [],
   "source": [
    "ticker = \"ALPA4.SA\"\n",
    "tabela_de_dados = yf.download(ticker, start= \"2021-05-27\", end= \"2025-04-30\", auto_adjust= False)\n",
    "\n"
   ]
  },
  {
   "cell_type": "markdown",
   "id": "308988bd",
   "metadata": {},
   "source": [
    "Passo 3 - Definir as janelas das médias móveis "
   ]
  },
  {
   "cell_type": "code",
   "execution_count": null,
   "id": "cbec307c",
   "metadata": {},
   "outputs": [],
   "source": [
    "janela_rapida = 7\n",
    "janela_lenta = 40"
   ]
  },
  {
   "cell_type": "markdown",
   "id": "a7de2d63",
   "metadata": {},
   "source": [
    "Passo 4 - Calcular as médias móveis"
   ]
  },
  {
   "cell_type": "code",
   "execution_count": null,
   "id": "9155b283",
   "metadata": {},
   "outputs": [],
   "source": [
    "tabela_de_dados[\"Média Rápida\"] = tabela_de_dados[\"Adj Close\"].rolling(window=janela_rapida).mean()\n",
    "tabela_de_dados[\"Média Lenta\"] = tabela_de_dados[\"Adj Close\"].rolling(window=janela_lenta).mean()\n",
    "\n"
   ]
  },
  {
   "cell_type": "markdown",
   "id": "dd124569",
   "metadata": {},
   "source": [
    "Passo 5 - Calcular o retorno diário da ação"
   ]
  },
  {
   "cell_type": "code",
   "execution_count": null,
   "id": "62b45fa5",
   "metadata": {},
   "outputs": [],
   "source": [
    "tabela_de_dados[\"retorno_diario\"] = tabela_de_dados[\"Adj Close\"].pct_change()\n",
    "tabela_de_dados = tabela_de_dados.dropna()\n",
    "\n"
   ]
  },
  {
   "cell_type": "markdown",
   "id": "ce0b7929",
   "metadata": {},
   "source": [
    "Passo 6 - Criar os sinais de compra ou venda"
   ]
  },
  {
   "cell_type": "code",
   "execution_count": null,
   "id": "b88f9440",
   "metadata": {},
   "outputs": [],
   "source": [
    "# se eu tiver comprado é 1\n",
    "# se eu tiver neutro é 0\n",
    "# se eu tiver vendido é -1\n",
    "\n",
    "tabela_de_dados[\"comprado_ou_vendido\"] = 0\n",
    "tabela_de_dados[\"comprado_ou_vendido\"] = np.where(tabela_de_dados[\"Média Rápida\"] > tabela_de_dados[\"Média Lenta\"], 1, -1)\n",
    "\n",
    "\n",
    "tabela_de_dados[\"comprado_ou_vendido\"] = tabela_de_dados[\"comprado_ou_vendido\"].shift(1)\n",
    "\n"
   ]
  },
  {
   "cell_type": "markdown",
   "id": "208ad727",
   "metadata": {},
   "source": [
    "Passo 7 - Calcular o retorno do modelo"
   ]
  },
  {
   "cell_type": "code",
   "execution_count": null,
   "id": "630dff5f",
   "metadata": {},
   "outputs": [],
   "source": [
    "tabela_de_dados[\"retorno_modelo\"] = tabela_de_dados[\"retorno_diario\"] * tabela_de_dados[\"comprado_ou_vendido\"]\n",
    "tabela_de_dados[\"retorno_acumulado_modelo\"] = (1 + tabela_de_dados[\"retorno_modelo\"]).cumprod() - 1\n",
    "\n"
   ]
  },
  {
   "cell_type": "markdown",
   "id": "c7904293",
   "metadata": {},
   "source": [
    "Passo 8 - Calcular o retorno da ação e do ibovespa no mesmo período"
   ]
  },
  {
   "cell_type": "code",
   "execution_count": null,
   "id": "1f96d4dd",
   "metadata": {},
   "outputs": [],
   "source": [
    "tabela_de_dados[\"retorno_acum_acao\"] = (1 + tabela_de_dados[\"retorno_diario\"]).cumprod() - 1\n",
    "\n",
    "ibov = yf.download(\"^BVSP\", start=tabela_de_dados.index[0], end=\"2025-04-30\", auto_adjust=False)[\"Adj Close\"]\n",
    "\n",
    "tabela_de_dados[\"retorno_ibov\"] = ibov.pct_change().values"
   ]
  },
  {
   "cell_type": "code",
   "execution_count": null,
   "id": "392f7b73",
   "metadata": {},
   "outputs": [],
   "source": [
    "tabela_de_dados"
   ]
  },
  {
   "cell_type": "code",
   "execution_count": null,
   "id": "7c2e11fe",
   "metadata": {},
   "outputs": [],
   "source": [
    "tabela_de_dados[\"retorno_acum_ibov\"] = (1 + tabela_de_dados[\"retorno_ibov\"]).cumprod() - 1\n"
   ]
  },
  {
   "cell_type": "markdown",
   "id": "f47d230d",
   "metadata": {},
   "source": [
    "Passo 9 - Criar o gráfico de retornos para observar o resultado da estratégia"
   ]
  },
  {
   "cell_type": "code",
   "execution_count": null,
   "id": "a9284191",
   "metadata": {},
   "outputs": [],
   "source": [
    "plt.plot(tabela_de_dados[\"retorno_acumulado_modelo\"], label = \"Estratégia\")\n",
    "plt.plot(tabela_de_dados[\"retorno_acum_acao\"], label = \"Ação\")\n",
    "plt.plot(tabela_de_dados[\"retorno_acum_ibov\"], label = \"ibovespa\")\n",
    "plt.legend()\n",
    "plt.show()"
   ]
  }
 ],
 "metadata": {
  "kernelspec": {
   "display_name": "base",
   "language": "python",
   "name": "python3"
  },
  "language_info": {
   "codemirror_mode": {
    "name": "ipython",
    "version": 3
   },
   "file_extension": ".py",
   "mimetype": "text/x-python",
   "name": "python",
   "nbconvert_exporter": "python",
   "pygments_lexer": "ipython3",
   "version": "3.12.7"
  }
 },
 "nbformat": 4,
 "nbformat_minor": 5
}
